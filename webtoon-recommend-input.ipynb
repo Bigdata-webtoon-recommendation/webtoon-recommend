{
 "cells": [
  {
   "cell_type": "markdown",
   "metadata": {},
   "source": [
    "# input(나이와 좋아하는 웹툰) 입력\n",
    "## 옵션 1: q를 입력받을 때까지 계속 받음, 3개 이상\n",
    "\n",
    "+ 19세 이하일 경우 성인용 웹툰 data에서 삭제\n",
    "+ 평점 상위 10%에는 가중치 높게, 하위 10%에는 가중치 낮게, 나머지는 동일"
   ]
  },
  {
   "cell_type": "code",
   "execution_count": null,
   "metadata": {},
   "outputs": [],
   "source": [
    "import pandas as pd\n",
    "import numpy as np\n",
    "\n",
    "data = pd.read_csv(\"./naver_daum_integration.csv\")\n",
    "\n",
    "# 추천 점수 저장할 리스트 선언 (data의 idx(1~2383)을 인덱스로)\n",
    "recommend_score = [0 for i in range(len(data)+1)]\n",
    "\n",
    "# 나이 입력받기\n",
    "age = input('나이를 입력하세요: ')\n",
    "\n",
    "# 잘못 입력했을 경우 정확히 입력할 때까지 반복\n",
    "while not age.isdigit():\n",
    "    age = input('정확한 나이를 입력하세요: ')\n",
    "    if age.isdigit():\n",
    "        break\n",
    "    \n",
    "# 전체 웹툰 제목 받아오기 (input 값 비교용)\n",
    "title = np.array(data['name'].tolist())\n",
    "\n",
    "# 입력한 웹툰의 제목을 저장하는 리스트\n",
    "input_list = []\n",
    "\n",
    "# q를 입력할 때까지 좋아하는 웹툰 제목을 입력받음, 무조건 세 개 이상 입력해야함, 중복 입력 불가능\n",
    "while 1:\n",
    "    a = input('좋아하는 웹툰을 입력하세요: ')\n",
    "    if a == 'q':\n",
    "        if len(input_list) >= 3:\n",
    "            break\n",
    "        else:\n",
    "            print(\"웹툰을 세 개 이상 입력하세요\")\n",
    "    elif a not in title:\n",
    "        print('입력한 웹툰이 존재하지 않습니다.')\n",
    "    elif a in input_list:\n",
    "        print('중복된 웹툰입니다.')\n",
    "    else:\n",
    "        input_list.append(a)\n",
    "\n",
    "# like_list에 입력받은 웹툰 정보를 저장, 각 요소는 Series type으로 되어있음\n",
    "like_list = []\n",
    "for i in input_list:\n",
    "    like_list.append(data[data.name == i])\n",
    "\n",
    "# like_list에 저장된 각 요소를 하나의 DataFrame으로 합쳐줌 -> like_df에는 입력받은 웹툰들이 DataFrame의 행 형태로 있음\n",
    "like_df = like_list[0]\n",
    "for i in like_list[1:]:\n",
    "    like_df = pd.concat([like_df, i])\n",
    "\n",
    "# 입력받은 나이가 19세 미만이면 19세 웹툰은 data(추천 데이터셋)에서 삭제\n",
    "if int(age) < 19:\n",
    "    data = data[data.age_limit != 1]\n",
    "    \n",
    "\n",
    "############ score 가중치 계산 ############\n",
    "\n",
    "# score의 내림차순으로 정렬한 data를 score_arrange_data에 저장\n",
    "score_arrange_data = data.sort_values(by=['score'], axis=0, ascending=False)\n",
    "\n",
    "# data 개수의 10%는 238개\n",
    "ten_percent = round(len(data) * 0.1)\n",
    "\n",
    "# 상위 10%의 가장 낮은 점수(9.96)과 하위 10%의 가장 높은 점수(8.96)를 저장 (동점인 항목까지 가중치 부여에 포함하기 위함)\n",
    "high_score = score_arrange_data.iloc[ten_percent - 1].score\n",
    "low_score = score_arrange_data.iloc[len(data)-ten_percent].score\n",
    "\n",
    "# score가 높은 idx(291개), score가 낮은 idx(238개)를 배열에 각각 저장\n",
    "high_score_list = data[data['score'] >= high_score].idx.values\n",
    "low_score_list = data[data['score'] <= low_score].idx.values\n",
    "\n",
    "# score가 높은 웹툰과 낮은 웹툰에 해당하는 idx의 recommend score 점수에 가중치 부여 (각각 1과 -1)\n",
    "for i in high_score_list:\n",
    "    recommend_score[i] += 1\n",
    "    \n",
    "for i in low_score_list:\n",
    "    recommend_score[i] -= 1"
   ]
  },
  {
   "cell_type": "markdown",
   "metadata": {},
   "source": [
    "### 위의 코드는 실행할 때마다 값을 입력해야므로 바로 값을 확인할 수 있도록 만든 연습 코드\n",
    " - 나이와 좋아하는 웹툰 input이 바로 들어가있음"
   ]
  },
  {
   "cell_type": "code",
   "execution_count": null,
   "metadata": {
    "scrolled": false
   },
   "outputs": [],
   "source": [
    "import pandas as pd\n",
    "import numpy as np\n",
    "\n",
    "data = pd.read_csv(\"./naver_daum_integration.csv\")\n",
    "recommend_score = [0 for i in range(len(data)+1)]\n",
    "\n",
    "age = 19\n",
    "input_list = ['유미의 세포들', '무지개다리 파수꾼', '현세이의 보이는 라디오']\n",
    "\n",
    "like_list = []\n",
    "for i in input_list:\n",
    "    like_list.append(data[data.name == i])\n",
    "    \n",
    "like_df = like_list[0]\n",
    "for i in like_list[1:]:\n",
    "    like_df = pd.concat([like_df, i])\n",
    "\n",
    "if age < 19:\n",
    "    data = data[data.age_limit != 1]\n",
    "    \n",
    "###### 수정된 score 계산 적용 #####\n",
    "\n",
    "score_arrange_data = data.sort_values(by=['score'], axis=0, ascending=False)\n",
    "ten_percent = round(len(data) * 0.1)\n",
    "\n",
    "high_score = score_arrange_data.iloc[ten_percent - 1].score\n",
    "low_score = score_arrange_data.iloc[len(data)-ten_percent].score\n",
    "\n",
    "data.loc[data['score'] >= high_score, 'idx']\n",
    "\n",
    "high_score_list = data[data['score'] >= high_score].idx.values\n",
    "low_score_list = data[data['score'] <= low_score].idx.values\n",
    "\n",
    "for i in high_score_list:\n",
    "    recommend_score[i] += 1\n",
    "    \n",
    "for i in low_score_list:\n",
    "    recommend_score[i] -= 1"
   ]
  },
  {
   "cell_type": "markdown",
   "metadata": {},
   "source": [
    "## 옵션 2: 입력할 웹툰 개수를 먼저 입력함"
   ]
  },
  {
   "cell_type": "code",
   "execution_count": null,
   "metadata": {},
   "outputs": [],
   "source": [
    "age = input('나이를 입력하세요: ')\n",
    "\n",
    "likeNum = input('입력할 좋아하는 웹툰 개수를 입력하세요: ')\n",
    "\n",
    "input_list = list()\n",
    "\n",
    "for i in range(int(likeNum)):\n",
    "    input_list.append(input('좋아하는 웹툰을 입력하세요: '))"
   ]
  },
  {
   "cell_type": "markdown",
   "metadata": {},
   "source": [
    "## 추가 기능: 나이 입력하지 않았을 경우 오류 처리"
   ]
  },
  {
   "cell_type": "code",
   "execution_count": null,
   "metadata": {},
   "outputs": [],
   "source": [
    "age = input('나이를 입력하세요: ')\n",
    "\n",
    "while not age.isdigit():\n",
    "    age = input('정확한 나이를 입력하세요: ')\n",
    "    if age.isdigit():\n",
    "        break\n",
    "        \n",
    "age"
   ]
  },
  {
   "cell_type": "markdown",
   "metadata": {},
   "source": [
    "## 평점 필터링 초기 설정\n",
    "\n",
    " - 입력한 웹툰 중 평점이 8.5 이하인 웹툰이 있으면 평점 8.5 이하의 웹툰도 추천, 없으면 추천하지 않음"
   ]
  },
  {
   "cell_type": "code",
   "execution_count": null,
   "metadata": {},
   "outputs": [],
   "source": [
    "# 추천 요소에 평점 고려\n",
    "score_count = 0\n",
    "\n",
    "# 좋아하는 웹툰 중 평점 8.5 이하인 웹툰이 있으면 평점 8.5 이하인 웹툰도 추천\n",
    "# 없으면 평점 8.5 이하인 웹툰인 data에서 삭제\n",
    "for i in like_list:\n",
    "    if (i.score < 8.5).any():\n",
    "        score_count += 1\n",
    "\n",
    "if score_count == 0:\n",
    "    data = data[data.score > 8.5 ]"
   ]
  },
  {
   "cell_type": "code",
   "execution_count": null,
   "metadata": {},
   "outputs": [],
   "source": []
  },
  {
   "cell_type": "code",
   "execution_count": null,
   "metadata": {},
   "outputs": [],
   "source": []
  }
 ],
 "metadata": {
  "kernelspec": {
   "display_name": "Python 3",
   "language": "python",
   "name": "python3"
  },
  "language_info": {
   "codemirror_mode": {
    "name": "ipython",
    "version": 3
   },
   "file_extension": ".py",
   "mimetype": "text/x-python",
   "name": "python",
   "nbconvert_exporter": "python",
   "pygments_lexer": "ipython3",
   "version": "3.7.6"
  }
 },
 "nbformat": 4,
 "nbformat_minor": 4
}
